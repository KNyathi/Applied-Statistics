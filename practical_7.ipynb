{
 "cells": [
  {
   "cell_type": "markdown",
   "metadata": {},
   "source": [
    "### Practical 7\n",
    "### Ньяти Каелиле БВТ2201"
   ]
  },
  {
   "cell_type": "markdown",
   "metadata": {},
   "source": [
    "#### Exercise 1"
   ]
  },
  {
   "cell_type": "code",
   "execution_count": 56,
   "metadata": {},
   "outputs": [
    {
     "name": "stdout",
     "output_type": "stream",
     "text": [
      "Variance due to randomness (S0^2): 0.1514\n"
     ]
    }
   ],
   "source": [
    "# Input data\n",
    "data = [\n",
    "    [3.83, 3.00, 2.70],  # Row B1\n",
    "    [4.10, 3.13, 3.50],  # Row B2\n",
    "    [3.63, 3.60, 3.20],  # Row B3\n",
    "    [3.27, 3.50, 3.70],  # Row B4\n",
    "]\n",
    "\n",
    "k = len(data)  # Number of rows\n",
    "m = len(data[0])  # Number of columns\n",
    "\n",
    "# Step 1: Calculate overall mean\n",
    "all_values = [value for row in data for value in row]\n",
    "overall_mean = sum(all_values) / len(all_values)\n",
    "\n",
    "# Step 2: Calculate row means (x̄_i)\n",
    "row_means = [sum(row) / m for row in data]\n",
    "\n",
    "# Step 2: Calculate column means\n",
    "col_means = []\n",
    "for j in range(m):\n",
    "    column = [data[i][j] for i in range(k)]\n",
    "    col_means.append(sum(column) / len(column))\n",
    "\n",
    "# Step 3: Compute the first term\n",
    "first_term = 0\n",
    "for j in range(m):\n",
    "    for i in range(k):\n",
    "        first_term += (data[i][j] - row_means[i]) ** 2\n",
    "first_term /= ((k-1) * (m - 1))\n",
    "\n",
    "# Step 4: Compute the second term\n",
    "second_term = 0\n",
    "for j in range(m):\n",
    "    second_term += (col_means[j] - overall_mean) ** 2\n",
    "second_term *= k /((k-1) * (m - 1))\n",
    "\n",
    "# Step 5: Calculate S0^2\n",
    "S0_squared = first_term - second_term\n",
    "\n",
    "# Output\n",
    "print(f\"Variance due to randomness (S0^2): {S0_squared:.4f}\")\n"
   ]
  },
  {
   "cell_type": "markdown",
   "metadata": {},
   "source": [
    "#### Exercise 2"
   ]
  },
  {
   "cell_type": "code",
   "execution_count": 57,
   "metadata": {},
   "outputs": [
    {
     "name": "stdout",
     "output_type": "stream",
     "text": [
      "Variance due to Factor A (S_A^2): 0.0915\n"
     ]
    }
   ],
   "source": [
    "SA_squared = 0\n",
    "\n",
    "for i in range(k):\n",
    "    SA_squared += (row_means[i] - overall_mean) ** 2\n",
    "SA_squared*= m/(k-1)\n",
    "\n",
    "# Output result\n",
    "print(f\"Variance due to Factor A (S_A^2): {SA_squared:.4f}\")\n"
   ]
  },
  {
   "cell_type": "markdown",
   "metadata": {},
   "source": [
    "#### Exercise 3"
   ]
  },
  {
   "cell_type": "code",
   "execution_count": 58,
   "metadata": {},
   "outputs": [
    {
     "name": "stdout",
     "output_type": "stream",
     "text": [
      "Variance due to Factor B (S_B^2): 0.2321\n"
     ]
    }
   ],
   "source": [
    "SB_squared = 0\n",
    "\n",
    "for j in range(m):\n",
    "    SB_squared += (col_means[j] - overall_mean) ** 2\n",
    "SB_squared*= k/(m-1)\n",
    "\n",
    "# Output result\n",
    "print(f\"Variance due to Factor B (S_B^2): {SB_squared:.4f}\")\n"
   ]
  },
  {
   "cell_type": "markdown",
   "metadata": {},
   "source": [
    "#### Exercise 4"
   ]
  },
  {
   "cell_type": "code",
   "execution_count": 59,
   "metadata": {},
   "outputs": [
    {
     "name": "stdout",
     "output_type": "stream",
     "text": [
      "Fisher's criterion for Factor A (F_A): 0.6042\n",
      "Critical F-value: 4.7571\n",
      "Factor A is NOT significant (незначимым).\n"
     ]
    }
   ],
   "source": [
    "from scipy.stats import f\n",
    "\n",
    "# Step 1: Calculate Fisher's F_A\n",
    "F_A = SA_squared / S0_squared\n",
    "\n",
    "# Step 2: Critical F-value\n",
    "f1, f2 = k - 1, (k - 1) * (m - 1)  # Degrees of freedom\n",
    "F_critical = f.ppf(0.95, f1, f2)   # 95% confidence level\n",
    "\n",
    "# Step 3: Determine significance\n",
    "if F_A > F_critical:\n",
    "    is_A_significant = True\n",
    "    result = \"Factor A is significant (значимым).\"\n",
    "else:\n",
    "    is_A_significant = False\n",
    "    result = \"Factor A is NOT significant (незначимым).\"\n",
    "\n",
    "# Output results\n",
    "print(f\"Fisher's criterion for Factor A (F_A): {F_A:.4f}\")\n",
    "print(f\"Critical F-value: {F_critical:.4f}\")\n",
    "print(result)\n"
   ]
  },
  {
   "cell_type": "code",
   "execution_count": 70,
   "metadata": {},
   "outputs": [
    {
     "data": {
      "text/plain": [
       "'\\n# Formula 6 - significant \\ngeneral_variance = (SA_squared - S0_squared)/m\\nprint(f\"General Variance is: {general_variance} \")\\n'"
      ]
     },
     "execution_count": 70,
     "metadata": {},
     "output_type": "execute_result"
    }
   ],
   "source": [
    "\"\"\"\n",
    "# Formula 6 - significant \n",
    "general_variance = (SA_squared - S0_squared)/m\n",
    "print(f\"General Variance is: {general_variance} \")\n",
    "\"\"\""
   ]
  },
  {
   "cell_type": "code",
   "execution_count": null,
   "metadata": {},
   "outputs": [
    {
     "name": "stdout",
     "output_type": "stream",
     "text": [
      "Generalized Variance (S_0^2): 0.1314\n"
     ]
    }
   ],
   "source": [
    "# Formula (8) - insignificant\n",
    "part_one = (k-1) * SA_squared + (k-1) * (m-1) * S0_squared\n",
    "part_two = (k-1) + (k-1) * (m-1)\n",
    "\n",
    "generalized_variance = part_one / part_two\n",
    "# Output result\n",
    "print(f\"Generalized Variance (S_0^2): {generalized_variance:.4f}\")\n"
   ]
  },
  {
   "cell_type": "markdown",
   "metadata": {},
   "source": [
    "#### Exercise 5"
   ]
  },
  {
   "cell_type": "code",
   "execution_count": 61,
   "metadata": {},
   "outputs": [
    {
     "name": "stdout",
     "output_type": "stream",
     "text": [
      "Fisher's criterion for Factor B (F_B): 1.5331\n",
      "Critical F-value: 5.1433\n",
      "Factor B is NOT significant (незначимым).\n"
     ]
    }
   ],
   "source": [
    "from scipy.stats import f\n",
    "\n",
    "# Step 1: Calculate Fisher's F_A\n",
    "F_B = SB_squared / S0_squared\n",
    "\n",
    "# Step 2: Critical F-value\n",
    "f1, f2 = m - 1, (k - 1) * (m - 1)  # Degrees of freedom\n",
    "F_critical = f.ppf(0.95, f1, f2)   # 95% confidence level\n",
    "\n",
    "# Step 3: Determine significance\n",
    "if F_B > F_critical:\n",
    "    is_B_significant = True\n",
    "    result = \"Factor B is significant (значимым).\"\n",
    "else:\n",
    "    is_B_significant = False\n",
    "    result = \"Factor B is NOT significant (незначимым).\"\n",
    "\n",
    "# Output results\n",
    "print(f\"Fisher's criterion for Factor B (F_B): {F_B:.4f}\")\n",
    "print(f\"Critical F-value: {F_critical:.4f}\")\n",
    "print(result)\n",
    "\n",
    "#This needs to be significant : find the error!!\n"
   ]
  },
  {
   "cell_type": "code",
   "execution_count": null,
   "metadata": {},
   "outputs": [
    {
     "name": "stdout",
     "output_type": "stream",
     "text": [
      "Generalized Variance (S_0^2): 0.0202\n"
     ]
    }
   ],
   "source": [
    "\"\"\"\n",
    "# Formula (7) - significant\n",
    "generalized_variance = (SB_squared - S0_squared)/k\n",
    "\n",
    "# Output result\n",
    "print(f\"Generalized Variance (S_0^2): {generalized_variance:.4f}\")\n",
    "\"\"\""
   ]
  },
  {
   "cell_type": "code",
   "execution_count": 67,
   "metadata": {},
   "outputs": [
    {
     "name": "stdout",
     "output_type": "stream",
     "text": [
      "Generalized Variance (S_0^2): 0.1715\n"
     ]
    }
   ],
   "source": [
    "# Formula (9) - insignificant\n",
    "part_one = (m-1) * SB_squared + (k-1) * (m-1) * S0_squared\n",
    "part_two = (m-1) + (k-1) * (m-1)\n",
    "\n",
    "generalized_variance = part_one / part_two\n",
    "# Output result\n",
    "print(f\"Generalized Variance (S_0^2): {generalized_variance:.4f}\")\n"
   ]
  },
  {
   "cell_type": "markdown",
   "metadata": {},
   "source": [
    "#### Exercise 6"
   ]
  },
  {
   "cell_type": "code",
   "execution_count": 63,
   "metadata": {},
   "outputs": [
    {
     "name": "stdout",
     "output_type": "stream",
     "text": [
      "General variance if both factors are insignificant = 0.1497\n"
     ]
    }
   ],
   "source": [
    "# If both factors are insignificant\n",
    "if not is_A_significant and not is_B_significant:\n",
    "    p1 = (k-1)*SA_squared + (m-1)*SB_squared + (k-1)*(m-1)*S0_squared\n",
    "    p2 = (k-1) + (m-1) + (k-1)*(m-1)\n",
    "    general_variance = p1/p2\n",
    "\n",
    "    print(f\"General variance if both factors are insignificant = {general_variance:.4f}\")\n"
   ]
  },
  {
   "cell_type": "markdown",
   "metadata": {},
   "source": [
    "#### Exercise 7"
   ]
  },
  {
   "cell_type": "code",
   "execution_count": 69,
   "metadata": {},
   "outputs": [
    {
     "name": "stdout",
     "output_type": "stream",
     "text": [
      "General Variance (both factors insignificant): 0.1497\n"
     ]
    }
   ],
   "source": [
    "def calculate_general_variance(SA_squared=SA_squared, SB_squared= SB_squared, S0_squared=S0_squared, m=m, k=k, significance_level=0.95):\n",
    "\n",
    "    # Degrees of freedom\n",
    "    f1_A, f2_A = k - 1, (k - 1) * (m - 1)  # Factor A\n",
    "    f1_B, f2_B = m - 1, (k - 1) * (m - 1)  # Factor B\n",
    "\n",
    "    # Critical F-values\n",
    "    F_critical_A = f.ppf(significance_level, f1_A, f2_A)\n",
    "    F_critical_B = f.ppf(significance_level, f1_B, f2_B)\n",
    "\n",
    "    # Fisher's F-statistics\n",
    "    F_A = SA_squared / S0_squared\n",
    "    F_B = SB_squared / S0_squared\n",
    "\n",
    "    # Determine significance\n",
    "    is_A_significant = F_A > F_critical_A\n",
    "    is_B_significant = F_B > F_critical_B\n",
    "\n",
    "    # Calculate general variance\n",
    "    if is_A_significant and not is_B_significant:\n",
    "        # Formula 6 - Factor A significant\n",
    "        general_variance = (SA_squared - S0_squared) / m\n",
    "        print(f\"General Variance (Factor A significant): {general_variance:.4f}\")\n",
    "    elif is_B_significant and not is_A_significant:\n",
    "        # Formula 7 - Factor B significant\n",
    "        general_variance = (SB_squared - S0_squared) / k\n",
    "        print(f\"General Variance (Factor B significant): {general_variance:.4f}\")\n",
    "    elif not is_A_significant and not is_B_significant:\n",
    "        # Both factors are insignificant\n",
    "        p1 = (k - 1) * SA_squared + (m - 1) * SB_squared + (k - 1) * (m - 1) * S0_squared\n",
    "        p2 = (k - 1) + (m - 1) + (k - 1) * (m - 1)\n",
    "        general_variance = p1 / p2\n",
    "        print(f\"General Variance (both factors insignificant): {general_variance:.4f}\")\n",
    "    else:\n",
    "        # Both factors are significant\n",
    "        part_one_A = (k - 1) * SA_squared + (k - 1) * (m - 1) * S0_squared\n",
    "        part_two_A = (k - 1) + (k - 1) * (m - 1)\n",
    "        generalized_variance_A = part_one_A / part_two_A\n",
    "\n",
    "        part_one_B = (m - 1) * SB_squared + (k - 1) * (m - 1) * S0_squared\n",
    "        part_two_B = (m - 1) + (k - 1) * (m - 1)\n",
    "        generalized_variance_B = part_one_B / part_two_B\n",
    "\n",
    "        print(f\"Generalized Variance (Factor A): {generalized_variance_A:.4f}\")\n",
    "        print(f\"Generalized Variance (Factor B): {generalized_variance_B:.4f}\")\n",
    "    \n",
    "    return None\n",
    "\n",
    "calculate_general_variance()\n"
   ]
  }
 ],
 "metadata": {
  "kernelspec": {
   "display_name": "Python 3",
   "language": "python",
   "name": "python3"
  },
  "language_info": {
   "codemirror_mode": {
    "name": "ipython",
    "version": 3
   },
   "file_extension": ".py",
   "mimetype": "text/x-python",
   "name": "python",
   "nbconvert_exporter": "python",
   "pygments_lexer": "ipython3",
   "version": "3.6.8"
  }
 },
 "nbformat": 4,
 "nbformat_minor": 2
}
