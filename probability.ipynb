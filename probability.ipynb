{
 "cells": [
  {
   "cell_type": "markdown",
   "metadata": {},
   "source": [
    "### Basic Probability"
   ]
  },
  {
   "cell_type": "code",
   "execution_count": 1,
   "metadata": {},
   "outputs": [],
   "source": [
    "#Prompt user for input data\n",
    "def get_integer_input(prompt):\n",
    "    while True:\n",
    "        user_input = input(prompt)\n",
    "        if user_input.isdigit():  # Check if the input is a digit\n",
    "            return int(user_input)\n",
    "        else:\n",
    "            print(\"Invalid input. Please enter a valid integer.\")\n",
    "\n",
    "inputA = get_integer_input(\"Enter favourable outcome value: \")\n",
    "inputB = get_integer_input(\"Enter total possible outcomes value: \")"
   ]
  },
  {
   "cell_type": "code",
   "execution_count": 11,
   "metadata": {},
   "outputs": [
    {
     "name": "stdout",
     "output_type": "stream",
     "text": [
      "The probability of picking 4 from 52 is: 0.08\n",
      "\n",
      "Error: Probability must be between 0 and 1. Try to think and input meaningful values.\n"
     ]
    }
   ],
   "source": [
    "\n",
    "def basic_probability(favourable_outcomes, total_outcomes):\n",
    "    result = favourable_outcomes/total_outcomes\n",
    "\n",
    "    if result >=0 and result<=1:\n",
    "        return result\n",
    "    \n",
    "    print(\"Error: Probability must be between 0 and 1. Try to think and input meaningful values.\")\n",
    "\n",
    "#Probability that a King is chosen from a deck of cards\n",
    "Deck = 52\n",
    "Event_A = 4 \n",
    "\n",
    "#Probability of rolling a 4 on a six-sided dice\n",
    "possible_Outcomes = 1\n",
    "roll_A_Four = 6\n",
    "\n",
    "def result_basic(event, total):\n",
    "    if basic_probability(event, total) is not None:\n",
    "        print(f\"The probability of picking {event} from {total} is: {basic_probability(event, total):.2f}\\n\") #round off to two decimal places\n",
    "\n",
    "\n",
    "\n",
    "\n",
    "#result_basic(inputA, inputB)\n",
    "\n",
    "result_basic(Event_A, Deck)\n",
    "result_basic(roll_A_Four, possible_Outcomes)\n"
   ]
  },
  {
   "cell_type": "markdown",
   "metadata": {},
   "source": [
    "### Dependent Probability\n",
    "\n",
    "##### Out of 52 cards (a deck), picking a king for the first time and not replacing it, and picking another king (or a different card) is a dependent probability since it changes the original version of events (either the total number of cards have now been reduced to 51, or the total number of kings have now been reduced to 3)\n"
   ]
  },
  {
   "cell_type": "code",
   "execution_count": 24,
   "metadata": {},
   "outputs": [
    {
     "name": "stdout",
     "output_type": "stream",
     "text": [
      "The probability of multiple dependent events with P=((4, 52), (3, 51)) is: 0.0045\n",
      "The probability of multiple dependent events with P=((4, 52), (3, 51), (3, 50)) is: 0.0003\n"
     ]
    }
   ],
   "source": [
    "'''\n",
    "def dependent_event(event, total):\n",
    "    if event:\n",
    "        event-=1 #If a king has been chosen, reduce number of kings by one\n",
    "        total-=1 #Reduce number of cards by one\n",
    "        return event, total\n",
    "\n",
    "#Picking a king, given that the first card chosen is not replaced\n",
    "def dependent_probability(event_A, event_B_given_A):\n",
    "    result = event_A*event_B_given_A\n",
    "\n",
    "    if result >=0 and result<=1:\n",
    "        return result\n",
    "    \n",
    "    print(\"Error: Probability must be between 0 and 1. Try to think and input meaningful values.\")\n",
    "    \n",
    "dep_Event, dep_Total = dependent_event(Event_A, Deck)\n",
    "\n",
    "eventA= basic_probability(Event_A, Deck)\n",
    "eventB= basic_probability(dep_Event, dep_Total)\n",
    "                      \n",
    "def result_dependent(eventA, eventB):\n",
    "    #Probability of getting a King two times in a row, given that the first card chosen is not replaced.\n",
    "    if dependent_probability(eventA, eventB) is not None:\n",
    "        print(f\"The probability of two dependent events with P={eventA} and P={eventB} is: {dependent_probability(eventA, eventB):.4f}\") #round off to two decimal places\n",
    "\n",
    "result_dependent(eventA, eventB)\n",
    "\n",
    "#Get an error\n",
    "result_dependent(1,2)\n",
    "\n",
    "'''\n",
    "\n",
    "#Dependent probability for multiple events\n",
    "def dependent_event(event, total):\n",
    "    if event:\n",
    "        event-=1 #If a king has been chosen, reduce number of kings by one\n",
    "        total-=1 #Reduce number of cards by one\n",
    "        return event, total\n",
    "\n",
    "#Picking a king, given that the first card chosen is not replaced\n",
    "def dependent_probability(*events):\n",
    "    result = 1\n",
    "    total = events[1][1]  # Initial total from the first event\n",
    "    \n",
    "    for event in events:\n",
    "        successes, total = event\n",
    "        result *= basic_probability(successes, total)\n",
    "        successes, total = dependent_event(successes, total)\n",
    "\n",
    "    if result >=0 and result<=1:\n",
    "        return result\n",
    "    \n",
    "    print(\"Error: Probability must be between 0 and 1. Try to think and input meaningful values.\")\n",
    "                      \n",
    "def result_dependent(*events):\n",
    "    #Probability of getting a King two times in a row, given that the first card chosen is not replaced.\n",
    "    if dependent_probability(*events) is not None:\n",
    "        print(f\"The probability of multiple dependent events with P={events} is: {dependent_probability(*events):.4f}\") #round off to two decimal places\n",
    "\n",
    "\n",
    "\n",
    "# Calculating the probability of drawing two Kings in a row from a deck\n",
    "eventA= (4, 52)\n",
    "eventB= dependent_event(4, 52)\n",
    "\n",
    "#Calculate the probability of picking two kings and then a queen\n",
    "eventC= dependent_event(4, 51)\n",
    "\n",
    "result_dependent(eventA, eventB)\n",
    "result_dependent(eventA, eventB, eventC)\n",
    "\n",
    "\n"
   ]
  },
  {
   "cell_type": "markdown",
   "metadata": {},
   "source": [
    "### Probability of Independent Events\n",
    "\n",
    "#### Out of a deck of 52 cards, picking a king for the first time, and replacing the cards to 52 again with a king. This does not change the original version of things, and thus the events will remain independent. However, if you are to pick a king, and replace it with say a queen, then this becomes a dependent event since the original version has now been altered(3 kings and 5 queens are now present). This is because the outcome of the second event is now influenced by what happened in the first event\n"
   ]
  },
  {
   "cell_type": "code",
   "execution_count": 9,
   "metadata": {},
   "outputs": [
    {
     "name": "stdout",
     "output_type": "stream",
     "text": [
      "The P(AnBn..), of which the events have probabilities(0.6, 0.4), is: 0.24\n",
      "The P(AnBn..), of which the events have probabilities(0.5, 0.5, 0.6), is: 0.15\n",
      "Error: Probability must be between 0 and 1. Try to think and input meaningful values.\n"
     ]
    }
   ],
   "source": [
    "'''\n",
    "def independent_probability(event_A, event_B):\n",
    "    result = event_A*event_B\n",
    "\n",
    "    if result >=0 and result<=1:\n",
    "        return result\n",
    "    \n",
    "    print(\"Error: Probability must be between 0 and 1. Try to think and input meaningful values.\")\n",
    "   \n",
    "\n",
    "#Given that events A and B are independent, with probabilities P(A) = 0.6 and P(B) = 0.4, find P(AnB)\n",
    "P_A = 0.6\n",
    "P_B = 0.4 \n",
    "\n",
    "#Probability of getting a Head in a tossed coin twice or getting a Head in two independent coins\n",
    "P_H = 0.5\n",
    "\n",
    "def result_independent(event_A, event_B):\n",
    "    if independent_probability(event_A, event_B) is not None:\n",
    "        print(f\"The P(AnB), of which event A is with P={event_A} and event B is with P={event_B}, is: {independent_probability(event_A, event_B):.2f}\") #round off to two decimal places\n",
    "\n",
    "result_independent(P_A, P_B)\n",
    "result_independent(P_H, P_H)\n",
    "\n",
    "#Get an error\n",
    "result_independent(2,3)\n",
    "\n",
    "'''\n",
    "\n",
    "#Independent Probability for multiple events\n",
    "def independent_probability(*events):\n",
    "    result = 1\n",
    "\n",
    "    for event in events:\n",
    "        result*=event\n",
    "\n",
    "    if result >=0 and result<=1:\n",
    "        return result\n",
    "    \n",
    "    print(\"Error: Probability must be between 0 and 1. Try to think and input meaningful values.\")\n",
    "   \n",
    "\n",
    "#Given that events A and B are independent, with probabilities P(A) = 0.6 and P(B) = 0.4, find P(AnB)\n",
    "P_A = 0.6\n",
    "P_B = 0.4 \n",
    "\n",
    "#Probability of getting a Head in a tossed coin twice or getting a Head in two independent coins\n",
    "P_H = 0.5\n",
    "\n",
    "def result_independent(*events):\n",
    "    if independent_probability(*events) is not None:\n",
    "        print(f\"The P(AnBn..), of which the events have probabilities {events}, is: {independent_probability(*events):.2f}\") #round off to two decimal places\n",
    "\n",
    "result_independent(P_A, P_B)\n",
    "result_independent(P_H, P_H, P_A)\n",
    "\n",
    "#Get an error\n",
    "result_independent(2,3) \n"
   ]
  },
  {
   "cell_type": "markdown",
   "metadata": {},
   "source": [
    "### Complementary Probability"
   ]
  },
  {
   "cell_type": "code",
   "execution_count": 7,
   "metadata": {},
   "outputs": [
    {
     "name": "stdout",
     "output_type": "stream",
     "text": [
      "The complementary probability of the event is: 0.80\n",
      "Error: Probability must be between 0 and 1. Try to think and input meaningful values.\n"
     ]
    }
   ],
   "source": [
    "def complementary_probability(event):\n",
    "    result = 1-event\n",
    "\n",
    "    if result >=0 and result<=1:\n",
    "        return result\n",
    "    \n",
    "    print(\"Error: Probability must be between 0 and 1. Try to think and input meaningful values.\")\n",
    "    \n",
    "\n",
    "def result_complementary(event):\n",
    "    if complementary_probability(event) is not None:\n",
    "        print(f\"The complementary probability of the event is: {complementary_probability(event):.2f}\") #round off to two decimal places\n",
    "\n",
    "#Event A has probability 0.2. Find the complementary probability of this event\n",
    "P_A = 0.2\n",
    "\n",
    "#Event B has probability \n",
    "result_complementary(P_A)\n",
    "\n",
    "#Get error\n",
    "result_complementary(5)"
   ]
  },
  {
   "cell_type": "markdown",
   "metadata": {},
   "source": [
    "### Conditional Probability\n"
   ]
  },
  {
   "cell_type": "code",
   "execution_count": 36,
   "metadata": {},
   "outputs": [
    {
     "name": "stdout",
     "output_type": "stream",
     "text": [
      "The conditional probability P(B | A) is: 0.25\n"
     ]
    }
   ],
   "source": [
    "def conditional_probability(eventB_n_eventA, eventA):   \n",
    "    if eventA == 0:\n",
    "        raise ValueError(\"P(A) cannot be zero, as it would lead to division by zero.\")\n",
    "    \n",
    "    result = eventB_n_eventA / eventA\n",
    "\n",
    "    if result >=0 and result<=1:\n",
    "        return result\n",
    "\n",
    "    print(\"Error: Probability must be between 0 and 1. Try to think and input meaningful values.\")\n",
    "\n",
    "def result_conditional(eventB_n_eventA, eventA):\n",
    "    if conditional_probability(eventB_n_eventA, eventA) is not None:\n",
    "        print(f\"The conditional probability P(B | A) is: {conditional_probability(eventB_n_eventA, eventA):.2f}\") #round off to two decimal places\n",
    "\n",
    "    \n",
    "eventB_n_eventA = 0.1  # Probability of both B and A occurring\n",
    "eventA = 0.4        # Probability of A occurring\n",
    "\n",
    "result_conditional(eventB_n_eventA, eventA)\n",
    "\n",
    "\n"
   ]
  },
  {
   "cell_type": "markdown",
   "metadata": {},
   "source": [
    "### Probability of Mutually Exclusive / Disjoint Events\n",
    "#### Events where, if the other happens, the other does not. Say you roll a dice and you get a 3. You roll it again and you get a 6. You can't roll the same dice and get a 3 and a 6 at the same time. Thus  P(A n B) = 0"
   ]
  },
  {
   "cell_type": "code",
   "execution_count": 5,
   "metadata": {},
   "outputs": [
    {
     "name": "stdout",
     "output_type": "stream",
     "text": [
      "The probability of two mutually exclusive events is: 0.90\n",
      "The probability of two mutually exclusive events is: 1.00\n",
      "Error: Probability must be between 0 and 1. Try to think and input meaningful values.\n"
     ]
    }
   ],
   "source": [
    "'''\n",
    "def mutually_exclusive_probability(event_A, event_B):\n",
    "    result = event_A + event_B\n",
    "\n",
    "    if result >=0 and result<=1:\n",
    "        return result\n",
    "    \n",
    "    print(\"Error: Probability must be between 0 and 1. Try to think and input meaningful values.\")\n",
    "\n",
    "def result_mutual(event_A, event_B):\n",
    "    if mutually_exclusive_probability(event_A, event_B) is not None:\n",
    "        print(f\"The probability of two mutually exclusive events is: {mutually_exclusive_probability(event_A, event_B):.2f}\") #round off to two decimal places\n",
    "\n",
    "#Two mutually exclusive events with probabilities P(A) = 0.3 and P(B)= 0,6 are given. Find P(A u B).\n",
    "P_A = 0.3\n",
    "P_B = 0.6\n",
    "\n",
    "#Event B has probability \n",
    "result_mutual(P_A, P_B)\n",
    "\n",
    "#Get error\n",
    "result_mutual(5,2)\n",
    "\n",
    "'''\n",
    "\n",
    "# Formula for more than two mutually-exclusive events\n",
    "def mutually_exclusive_probability(*events):\n",
    "    result = sum(events)\n",
    "\n",
    "    if result >=0 and result<=1:\n",
    "        return result\n",
    "    \n",
    "    print(\"Error: Probability must be between 0 and 1. Try to think and input meaningful values.\")\n",
    "\n",
    "def result_mutual(*events):\n",
    "    if mutually_exclusive_probability(*events) is not None:\n",
    "        print(f\"The probability of two mutually exclusive events is: {mutually_exclusive_probability(*events):.2f}\") #round off to two decimal places\n",
    "\n",
    "#Two mutually exclusive events with probabilities P(A) = 0.3 and P(B)= 0,6 are given. Find P(A u B).\n",
    "P_A = 0.3\n",
    "P_B = 0.6\n",
    "P_C = 0.1\n",
    "P_D = 0.2\n",
    "#Event B has probability \n",
    "result_mutual(P_A, P_B)\n",
    "result_mutual(P_A, P_B, P_C)\n",
    "result_mutual(P_A, P_B, P_C, P_D)"
   ]
  },
  {
   "cell_type": "markdown",
   "metadata": {},
   "source": [
    "### Probability of Non-mutually-exclusive events "
   ]
  },
  {
   "cell_type": "code",
   "execution_count": 33,
   "metadata": {},
   "outputs": [
    {
     "name": "stdout",
     "output_type": "stream",
     "text": [
      "The probability of [0.4, 0.2, 0.1, 0.3] non-mutually exclusive events is: 0.50\n"
     ]
    },
    {
     "data": {
      "text/plain": [
       "'\\n# Three non-mutually exclusive events\\nP_A = 0.3\\nP_B = 0.6\\nP_C = 0.5\\n\\n# Pairwise intersections\\nP_AnB = 0.2\\nP_AnC = 0.1\\nP_BnC = 0.15\\n\\n# Intersection of all three events\\nP_AnBnC = 0.05\\n\\n# Calculate the union of three events\\nevent_probs = [P_A, P_B, P_C]\\npair_intersections = [P_AnB, P_AnC, P_BnC]\\nall_intersection = P_AnBnC\\n\\nresult_non_mutual(event_probs, pair_intersections, all_intersection)\\n\\n# Example for two non-mutually exclusive events\\nP_A = 0.3\\nP_B = 0.6\\nP_AnB = 0.2\\n\\n# Calculate the union of two events\\nresult_non_mutual([P_A, P_B], [P_AnB])\\n'"
      ]
     },
     "execution_count": 33,
     "metadata": {},
     "output_type": "execute_result"
    }
   ],
   "source": [
    "'''\n",
    "def non_mutually_exclusive_probability(event_A, event_B, event_AB):\n",
    "    result = event_A + event_B - event_AB\n",
    "\n",
    "    if result >=0 and result<=1:\n",
    "        return result\n",
    "    \n",
    "    print(\"Error: Probability must be between 0 and 1. Try to think and input meaningful values.\")\n",
    "\n",
    "def result_non_mutual(event_A, event_B, event_AB):\n",
    "    if non_mutually_exclusive_probability(event_A, event_B,event_AB) is not None:\n",
    "        print(f\"The probability of two non-mutually exclusive events is: {non_mutually_exclusive_probability(event_A, event_B, event_AB):.2f}\") #round off to two decimal places\n",
    "\n",
    "#Two non-mutually exclusive events with probabilities P(A) = 0.3 and P(B)= 0,6 are given. P(A n B) = 0.2 Find P(A u B).\n",
    "P_A = 0.3\n",
    "P_B = 0.6\n",
    "P_AnB = 0.2\n",
    "\n",
    "#Event B has probability \n",
    "result_non_mutual(P_A, P_B, P_AnB)\n",
    "\n",
    "#Get error\n",
    "result_mutual(5,2,6)\n",
    "'''\n",
    "\n",
    "# Formula for multiple non-mutually-exclusive events\n",
    "def non_mutually_exclusive_probability(*args):\n",
    "    \"\"\"\n",
    "    Calculate the probability of non-mutually exclusive events using the inclusion-exclusion principle.\n",
    "    \"\"\"\n",
    "    total_prob = 0\n",
    "    event_sums = args[0]  # Event probabilities\n",
    "    intersections = args[1]  # Intersections of two or more events\n",
    "    \n",
    "    # Add individual event probabilities\n",
    "    for event in event_sums:\n",
    "        total_prob += event\n",
    "    \n",
    "    # Subtract pairwise intersections\n",
    "    for intersection in intersections:\n",
    "        total_prob -= intersection\n",
    "\n",
    "    # Add back intersections of all events\n",
    "    if len(args) == 3:\n",
    "        all_intersection = args[2]  # Intersection of all events\n",
    "        if all_intersection is not None:\n",
    "            total_prob += all_intersection\n",
    "    \n",
    "    if 0 <= total_prob <= 1:\n",
    "        return total_prob\n",
    "    \n",
    "    print(\"Error: Probability must be between 0 and 1. Try to think and input meaningful values.\")\n",
    "\n",
    "def result_non_mutual(event_probs, pair_intersections, all_intersection=None):\n",
    "    if non_mutually_exclusive_probability(event_probs, pair_intersections, all_intersection) is not None:\n",
    "        print(f\"The probability of {event_probs} non-mutually exclusive events is: {non_mutually_exclusive_probability(event_probs, pair_intersections, all_intersection):.2f}\") #round off to two decimal places\n",
    "\n",
    "# Probabilities for each event\n",
    "P_A = 0.4\n",
    "P_B = 0.2\n",
    "P_C = 0.1\n",
    "P_D = 0.3\n",
    "\n",
    "# Pairwise intersections\n",
    "P_AnB = 0.1\n",
    "P_AnC = 0.05\n",
    "P_AnD = 0.08\n",
    "P_BnC = 0.12\n",
    "P_BnD = 0.07\n",
    "P_CnD = 0.09\n",
    "\n",
    "# Three-way intersections\n",
    "P_AnBnC = 0.02\n",
    "P_AnBnD = 0.03\n",
    "P_AnCnD = 0.01\n",
    "P_BnCnD = 0.04\n",
    "\n",
    "# Intersection of all four events\n",
    "P_AnBnCnD = 0.005\n",
    "\n",
    "# Define the event probabilities and intersections\n",
    "event_probs = [P_A, P_B, P_C, P_D]\n",
    "pair_intersections = [P_AnB, P_AnC, P_AnD, P_BnC, P_BnD, P_CnD]\n",
    "three_way_intersections = [P_AnBnC, P_AnBnD, P_AnCnD, P_BnCnD]\n",
    "all_four_intersection = P_AnBnCnD\n",
    "\n",
    "# Calculate the union of four events using the previous function\n",
    "result_non_mutual(event_probs, pair_intersections, all_four_intersection)\n",
    "\n",
    "\"\"\"\n",
    "# Three non-mutually exclusive events\n",
    "P_A = 0.3\n",
    "P_B = 0.6\n",
    "P_C = 0.5\n",
    "\n",
    "# Pairwise intersections\n",
    "P_AnB = 0.2\n",
    "P_AnC = 0.1\n",
    "P_BnC = 0.15\n",
    "\n",
    "# Intersection of all three events\n",
    "P_AnBnC = 0.05\n",
    "\n",
    "# Calculate the union of three events\n",
    "event_probs = [P_A, P_B, P_C]\n",
    "pair_intersections = [P_AnB, P_AnC, P_BnC]\n",
    "all_intersection = P_AnBnC\n",
    "\n",
    "result_non_mutual(event_probs, pair_intersections, all_intersection)\n",
    "\n",
    "# Example for two non-mutually exclusive events\n",
    "P_A = 0.3\n",
    "P_B = 0.6\n",
    "P_AnB = 0.2\n",
    "\n",
    "# Calculate the union of two events\n",
    "result_non_mutual([P_A, P_B], [P_AnB])\n",
    "\"\"\""
   ]
  },
  {
   "cell_type": "markdown",
   "metadata": {},
   "source": [
    "### Combinations and Permutations\n",
    "#### Combination- No of ways...\n",
    "#### Permutations - Ordered, arranged..."
   ]
  },
  {
   "cell_type": "code",
   "execution_count": 1,
   "metadata": {},
   "outputs": [
    {
     "name": "stdout",
     "output_type": "stream",
     "text": [
      "Permutations of 5 items taken 3 at a time: 60\n",
      "Combinations of 5 items taken 3 at a time: 10\n"
     ]
    }
   ],
   "source": [
    "import math\n",
    "\n",
    "def factorial(n):\n",
    "    \"\"\"Calculate the factorial of a number.\"\"\"\n",
    "    if n == 0 or n == 1:\n",
    "        return 1\n",
    "    else:\n",
    "        return n * factorial(n - 1)\n",
    "\n",
    "def permutations(n, r):\n",
    "    \"\"\"Calculate the number of permutations of n items taken r at a time.\"\"\"\n",
    "    if n < r:\n",
    "        return 0\n",
    "    return factorial(n) // factorial(n - r)\n",
    "\n",
    "def combinations(n, r):\n",
    "    \"\"\"Calculate the number of combinations of n items taken r at a time.\"\"\"\n",
    "    if n < r:\n",
    "        return 0\n",
    "    return factorial(n) // (factorial(r) * factorial(n - r))\n",
    "\n",
    "def main():\n",
    "    # Example usage\n",
    "    n = 5\n",
    "    r = 3\n",
    "\n",
    "    print(f\"Permutations of {n} items taken {r} at a time: {permutations(n, r)}\")\n",
    "    print(f\"Combinations of {n} items taken {r} at a time: {combinations(n, r)}\")\n",
    "    \n",
    "main()\n"
   ]
  },
  {
   "cell_type": "markdown",
   "metadata": {},
   "source": [
    "### Combinations with repetition"
   ]
  },
  {
   "cell_type": "code",
   "execution_count": 6,
   "metadata": {},
   "outputs": [
    {
     "name": "stdout",
     "output_type": "stream",
     "text": [
      "Number of ways to pick 2 letters from 'ABC' with repetition allowed: 6\n"
     ]
    }
   ],
   "source": [
    "import math\n",
    "\n",
    "def factorial(n):\n",
    "    \"\"\"Calculate the factorial of a number.\"\"\"\n",
    "    if n == 0 or n == 1:\n",
    "        return 1\n",
    "    else:\n",
    "        return n * factorial(n - 1)\n",
    "\n",
    "def combinations_with_repetition(n, r):\n",
    "    \"\"\"Calculate the number of combinations with repetition of n items taken r at a time.\"\"\"\n",
    "    return factorial(n + r - 1) // (factorial(r) * factorial(n - 1))\n",
    "\n",
    "def main():\n",
    "    # Example usage\n",
    "    word = \"ABC\"\n",
    "    n = len(word)  # Number of distinct letters\n",
    "    r = 2  # Number of letters to pick\n",
    "\n",
    "    result = combinations_with_repetition(n, r)\n",
    "    print(f\"Number of ways to pick {r} letters from '{word}' with repetition allowed: {result}\")\n",
    "\n",
    "main()\n"
   ]
  }
 ],
 "metadata": {
  "kernelspec": {
   "display_name": "Python 3",
   "language": "python",
   "name": "python3"
  },
  "language_info": {
   "codemirror_mode": {
    "name": "ipython",
    "version": 3
   },
   "file_extension": ".py",
   "mimetype": "text/x-python",
   "name": "python",
   "nbconvert_exporter": "python",
   "pygments_lexer": "ipython3",
   "version": "3.6.8"
  }
 },
 "nbformat": 4,
 "nbformat_minor": 2
}
