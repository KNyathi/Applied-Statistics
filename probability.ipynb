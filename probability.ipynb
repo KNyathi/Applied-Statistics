{
 "cells": [
  {
   "cell_type": "markdown",
   "metadata": {},
   "source": [
    "### Basic Probability"
   ]
  },
  {
   "cell_type": "code",
   "execution_count": 1,
   "metadata": {},
   "outputs": [],
   "source": [
    "#Prompt user for input data\n",
    "def get_integer_input(prompt):\n",
    "    while True:\n",
    "        user_input = input(prompt)\n",
    "        if user_input.isdigit():  # Check if the input is a digit\n",
    "            return int(user_input)\n",
    "        else:\n",
    "            print(\"Invalid input. Please enter a valid integer.\")\n",
    "\n",
    "inputA = get_integer_input(\"Enter favourable outcome value: \")\n",
    "inputB = get_integer_input(\"Enter total possible outcomes value: \")"
   ]
  },
  {
   "cell_type": "code",
   "execution_count": 1,
   "metadata": {},
   "outputs": [
    {
     "name": "stdout",
     "output_type": "stream",
     "text": [
      "The probability of picking 4 from 52 is: 0.08\n",
      "\n",
      "Error: Probability must be between 0 and 1. Try to think and input meaningful values.\n"
     ]
    }
   ],
   "source": [
    "\n",
    "def basic_probability(favourable_outcomes, total_outcomes):\n",
    "    result = favourable_outcomes/total_outcomes\n",
    "\n",
    "    if result >=0 and result<=1:\n",
    "        return result\n",
    "    \n",
    "    print(\"Error: Probability must be between 0 and 1. Try to think and input meaningful values.\")\n",
    "\n",
    "#Probability that a King is chosen from a deck of cards\n",
    "Deck = 52\n",
    "Event_A = 4 \n",
    "\n",
    "#Probability of rolling a 4 on a six-sided dice\n",
    "possible_Outcomes = 1\n",
    "roll_A_Four = 6\n",
    "\n",
    "def result_basic(event, total):\n",
    "    if basic_probability(event, total) is not None:\n",
    "        print(f\"The probability of picking {event} from {total} is: {basic_probability(event, total):.2f}\\n\") #round off to two decimal places\n",
    "\n",
    "\n",
    "\n",
    "\n",
    "#result_basic(inputA, inputB)\n",
    "\n",
    "result_basic(Event_A, Deck)\n",
    "result_basic(roll_A_Four, possible_Outcomes)\n"
   ]
  },
  {
   "cell_type": "markdown",
   "metadata": {},
   "source": [
    "### Dependent Probability\n",
    "\n",
    "##### Out of 52 cards (a deck), picking a king for the first time and not replacing it, and picking another king (or a different card) is a dependent probability since it changes the original version of events (either the total number of cards have now been reduced to 51, or the total number of kings have now been reduced to 3)\n"
   ]
  },
  {
   "cell_type": "code",
   "execution_count": 6,
   "metadata": {},
   "outputs": [
    {
     "name": "stdout",
     "output_type": "stream",
     "text": [
      "The probability of two dependent events with P=0.07692307692307693 and P=0.058823529411764705 is: 0.0045\n",
      "Error: Probability must be between 0 and 1. Try to think and input meaningful values.\n"
     ]
    }
   ],
   "source": [
    "\n",
    "def dependent_event(event, total):\n",
    "    if event:\n",
    "        event-=1 #If a king has been chosen, reduce number of kings by one\n",
    "        total-=1 #Reduce number of cards by one\n",
    "    return event, total\n",
    "\n",
    "#Picking a king, given that the first card chosen is not replaced\n",
    "def dependent_probability(event_A, event_B_given_A):\n",
    "    result = event_A*event_B_given_A\n",
    "\n",
    "    if result >=0 and result<=1:\n",
    "        return result\n",
    "    \n",
    "    print(\"Error: Probability must be between 0 and 1. Try to think and input meaningful values.\")\n",
    "    \n",
    "dep_Event, dep_Total = dependent_event(Event_A, Deck)\n",
    "\n",
    "eventA= basic_probability(Event_A, Deck)\n",
    "eventB= basic_probability(dep_Event, dep_Total)\n",
    "                      \n",
    "def result_dependent(eventA, eventB):\n",
    "    #Probability of getting a King two times in a row, given that the first card chosen is not replaced.\n",
    "    if dependent_probability(eventA, eventB) is not None:\n",
    "        print(f\"The probability of two dependent events with P={eventA} and P={eventB} is: {dependent_probability(eventA, eventB):.4f}\") #round off to two decimal places\n",
    "\n",
    "result_dependent(eventA, eventB)\n",
    "\n",
    "#Get an error\n",
    "result_dependent(1,2)\n",
    "\n",
    "\n"
   ]
  },
  {
   "cell_type": "markdown",
   "metadata": {},
   "source": [
    "### Probability of Independent Events\n",
    "\n",
    "#### Out of a deck of 52 cards, picking a king for the first time, and replacing the cards to 52 again with a king. This does not change the original version of things, and thus the events will remain independent. However, if you are to pick a king, and replace it with say a queen, then this becomes a dependent event since the original version has now been altered(3 kings and 5 queens are now present). This is because the outcome of the second event is now influenced by what happened in the first event\n"
   ]
  },
  {
   "cell_type": "code",
   "execution_count": 5,
   "metadata": {},
   "outputs": [
    {
     "name": "stdout",
     "output_type": "stream",
     "text": [
      "The P(AnB), of which event A is with P=0.6 and event B is with P=0.4, is: 0.24\n",
      "The P(AnB), of which event A is with P=0.5 and event B is with P=0.5, is: 0.25\n",
      "Error: Probability must be between 0 and 1. Try to think and input meaningful values.\n"
     ]
    }
   ],
   "source": [
    "def independent_probability(event_A, event_B):\n",
    "    result = event_A*event_B\n",
    "\n",
    "    if result >=0 and result<=1:\n",
    "        return result\n",
    "    \n",
    "    print(\"Error: Probability must be between 0 and 1. Try to think and input meaningful values.\")\n",
    "   \n",
    "\n",
    "#Given that events A and B are independent, with probabilities P(A) = 0.6 and P(B) = 0.4, find P(AnB)\n",
    "P_A = 0.6\n",
    "P_B = 0.4 \n",
    "\n",
    "#Probability of getting a Head in a tossed coin twice or getting a Head in two independent coins\n",
    "P_H = 0.5\n",
    "\n",
    "def result_independent(event_A, event_B):\n",
    "    if independent_probability(event_A, event_B) is not None:\n",
    "        print(f\"The P(AnB), of which event A is with P={event_A} and event B is with P={event_B}, is: {independent_probability(event_A, event_B):.2f}\") #round off to two decimal places\n",
    "\n",
    "result_independent(P_A, P_B)\n",
    "result_independent(P_H, P_H)\n",
    "\n",
    "#Get an error\n",
    "result_independent(2,3)"
   ]
  },
  {
   "cell_type": "markdown",
   "metadata": {},
   "source": [
    "### Complementary Probability"
   ]
  },
  {
   "cell_type": "code",
   "execution_count": 7,
   "metadata": {},
   "outputs": [
    {
     "name": "stdout",
     "output_type": "stream",
     "text": [
      "The complementary probability of the event is: 0.80\n",
      "Error: Probability must be between 0 and 1. Try to think and input meaningful values.\n"
     ]
    }
   ],
   "source": [
    "def complementary_probability(event):\n",
    "    result = 1-event\n",
    "\n",
    "    if result >=0 and result<=1:\n",
    "        return result\n",
    "    \n",
    "    print(\"Error: Probability must be between 0 and 1. Try to think and input meaningful values.\")\n",
    "    \n",
    "\n",
    "def result_complementary(event):\n",
    "    if complementary_probability(event) is not None:\n",
    "        print(f\"The complementary probability of the event is: {complementary_probability(event):.2f}\") #round off to two decimal places\n",
    "\n",
    "#Event A has probability 0.2. Find the complementary probability of this event\n",
    "P_A = 0.2\n",
    "\n",
    "#Event B has probability \n",
    "result_complementary(P_A)\n",
    "\n",
    "#Get error\n",
    "result_complementary(5)"
   ]
  },
  {
   "cell_type": "markdown",
   "metadata": {},
   "source": []
  }
 ],
 "metadata": {
  "kernelspec": {
   "display_name": "Python 3",
   "language": "python",
   "name": "python3"
  },
  "language_info": {
   "codemirror_mode": {
    "name": "ipython",
    "version": 3
   },
   "file_extension": ".py",
   "mimetype": "text/x-python",
   "name": "python",
   "nbconvert_exporter": "python",
   "pygments_lexer": "ipython3",
   "version": "3.6.8"
  }
 },
 "nbformat": 4,
 "nbformat_minor": 2
}
