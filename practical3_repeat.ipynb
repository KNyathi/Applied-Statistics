version https://git-lfs.github.com/spec/v1
oid sha256:6c6580f45aa8d8fcae424879483af1851a708bb5415026df4d5371b5f5e81e0a
size 2929248
