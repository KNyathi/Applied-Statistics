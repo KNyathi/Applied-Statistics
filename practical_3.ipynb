version https://git-lfs.github.com/spec/v1
oid sha256:38fd0083563fd17ae274d4e278e056df78ebed2137dd5f2e32b26b7cb5d8df96
size 2930917
